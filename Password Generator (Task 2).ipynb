{
 "cells": [
  {
   "cell_type": "markdown",
   "id": "12d0bc7a",
   "metadata": {},
   "source": [
    "# Password Generator"
   ]
  },
  {
   "cell_type": "code",
   "execution_count": 1,
   "id": "c5fab84e",
   "metadata": {},
   "outputs": [],
   "source": [
    "from tkinter import * \n",
    "import string\n",
    "import random\n",
    "\n",
    "\n",
    "def generator():\n",
    "    capital_alphabets = string.ascii_uppercase\n",
    "    small_alphabets = string.ascii_lowercase\n",
    "    numbers = string.digits\n",
    "    special_characters = string.punctuation\n",
    "\n",
    "    \n",
    "    all_ = capital_alphabets+small_alphabets+numbers+special_characters\n",
    "    password_length=int(length_Box.get())\n",
    "    \n",
    "    if choice.get()==1:\n",
    "        password = ''.join(random.sample(capital_alphabets,password_length))\n",
    "    \n",
    "    elif choice.get()==2:\n",
    "        password = ''.join(random.sample( capital_alphabets+ small_alphabets, password_length))\n",
    "        \n",
    "    elif choice.get()==3:\n",
    "        password = ''.join(random.sample(all_,password_length))\n",
    "           \n",
    "    passwordField.delete(0,END)\n",
    "    passwordField.insert(0,password)\n",
    "    \n",
    "def reset():\n",
    "    length_Box.delete(0,END)\n",
    "    passwordField.delete(0,END)\n",
    "    \n",
    "root = Tk()\n",
    "root.config(bg='black')\n",
    "choice = IntVar()\n",
    "Font = ('Helvetica',15,'bold')\n",
    "\n",
    "passwordLabel = Label(root,text='Password Generator', font=('Calisto MT',25,'bold'),bg='blue',fg='white')\n",
    "passwordLabel.grid(pady=11)\n",
    "\n",
    "weakradioButton = Radiobutton(root,text='Weak',value=1,variable= choice,font=Font)\n",
    "weakradioButton.grid(pady=9)\n",
    "\n",
    "mediumradioButton = Radiobutton(root,text='Medium',value=2,variable= choice,font=Font)\n",
    "mediumradioButton.grid(pady=6)\n",
    "\n",
    "StrongradioButton = Radiobutton(root,text='Strong',value=3,variable= choice,font=Font)\n",
    "StrongradioButton.grid(pady=6)\n",
    "\n",
    "lengthLabel = Label(root,text='Select Password Length', font=Font,bg='white',fg='red')\n",
    "lengthLabel.grid(pady=6)\n",
    "\n",
    "length_Box = Spinbox(root,from_=5,to=15,width=2,font=Font)\n",
    "length_Box.grid(pady=6)\n",
    "\n",
    "generateButton = Button(root,text=' Generate Password ',command=generator)\n",
    "generateButton.grid()\n",
    "\n",
    "passwordField = Entry(root,width=25,bd=2,font=Font)\n",
    "passwordField.grid(pady=6)\n",
    "\n",
    "resetButton = Button(root,text='Reset',command=reset)\n",
    "resetButton.grid(pady=6)\n",
    "\n",
    "root.mainloop()\n"
   ]
  },
  {
   "cell_type": "code",
   "execution_count": null,
   "id": "47403faf",
   "metadata": {},
   "outputs": [],
   "source": []
  }
 ],
 "metadata": {
  "kernelspec": {
   "display_name": "Python 3 (ipykernel)",
   "language": "python",
   "name": "python3"
  },
  "language_info": {
   "codemirror_mode": {
    "name": "ipython",
    "version": 3
   },
   "file_extension": ".py",
   "mimetype": "text/x-python",
   "name": "python",
   "nbconvert_exporter": "python",
   "pygments_lexer": "ipython3",
   "version": "3.9.12"
  }
 },
 "nbformat": 4,
 "nbformat_minor": 5
}
